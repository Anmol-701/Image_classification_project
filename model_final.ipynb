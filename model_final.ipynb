{
  "cells": [
    {
      "cell_type": "code",
      "execution_count": 1,
      "metadata": {
        "id": "iwfxNRHrUNrn"
      },
      "outputs": [],
      "source": [
        "import os  # Importing the 'os' module for interacting with the operating system\n",
        "import PIL  # Importing the 'PIL' module, used for handling images in Python\n",
        "import shutil  # Importing the 'shutil' module, providing high-level file operations\n",
        "import pathlib  # Importing the 'pathlib' module for working with filesystem paths\n",
        "import numpy as np  # Importing the 'numpy' library for numerical computations in Python\n",
        "import matplotlib.pyplot as plt  # Importing 'matplotlib.pyplot' for data visualization\n"
      ]
    },
    {
      "cell_type": "code",
      "execution_count": 2,
      "metadata": {
        "id": "nsYzeuAJUNrp"
      },
      "outputs": [],
      "source": [
        "import tensorflow as tf  # Importing TensorFlow, a popular machine learning framework in Python\n",
        "from tensorflow import keras  # Importing the 'keras' submodule from TensorFlow for high-level neural network APIs\n",
        "from tensorflow.keras import layers  # Importing the 'layers' module from Keras for defining neural network layers\n",
        "from tensorflow.keras.models import Sequential, save_model  # Importing 'Sequential' model and 'save_model' function from Keras"
      ]
    },
    {
      "cell_type": "code",
      "execution_count": 3,
      "metadata": {
        "id": "u-_hR8grUNrp"
      },
      "outputs": [
        {
          "name": "stdout",
          "output_type": "stream",
          "text": [
            "Downloading data from https://storage.googleapis.com/download.tensorflow.org/example_images/flower_photos.tgz\n",
            "\u001b[1m228813984/228813984\u001b[0m \u001b[32m━━━━━━━━━━━━━━━━━━━━\u001b[0m\u001b[37m\u001b[0m \u001b[1m223s\u001b[0m 1us/step\n"
          ]
        }
      ],
      "source": [
        "dataset_url = \"https://storage.googleapis.com/download.tensorflow.org/example_images/flower_photos.tgz\"\n",
        "# Defines the URL from which the dataset will be downloaded\n",
        "\n",
        "data_dir = tf.keras.utils.get_file('flower_photos', origin=dataset_url, untar=True)\n",
        "# Uses TensorFlow's 'get_file' utility to download the dataset from the specified URL.\n",
        "# 'flower_photos' is the name assigned to the downloaded file or directory.\n",
        "# 'origin' specifies the URL to download from.\n",
        "# 'untar=True' indicates that the downloaded file should be extracted (assuming it's a compressed archive like .tgz or .tar.gz).\n",
        "\n",
        "data_dir = pathlib.Path(data_dir)\n",
        "# Converts the obtained path (either to a file or directory) into a Path object using 'pathlib'.\n",
        "# This allows for manipulation and traversal of the file path in an object-oriented way."
      ]
    },
    {
      "cell_type": "code",
      "execution_count": 4,
      "metadata": {
        "colab": {
          "base_uri": "https://localhost:8080/"
        },
        "id": "dmmVfm-5UNrp",
        "outputId": "aae927fa-771b-4256-e329-8bdb2e64426b"
      },
      "outputs": [
        {
          "name": "stdout",
          "output_type": "stream",
          "text": [
            "Total no. of images:  3670\n"
          ]
        }
      ],
      "source": [
        "image_count = len(list(data_dir.glob('*/*.jpg')))\n",
        "# Uses the 'glob' method from the 'pathlib' module to create a list of file paths.\n",
        "# The expression '*/*.jpg' specifies a pattern to match all files with a '.jpg' extension in any subdirectory.\n",
        "# 'data_dir.glob()' generates an iterator that yields paths matching the specified pattern.\n",
        "# 'list()' converts this iterator to a list.\n",
        "# 'len()' calculates the length of the list, which represents the total count of image files.\n",
        "\n",
        "print(\"Total no. of images: \", image_count)\n",
        "# Prints the total number of images found in the dataset directory.\n"
      ]
    },
    {
      "cell_type": "code",
      "execution_count": 5,
      "metadata": {
        "id": "vbb87dKzUNrq"
      },
      "outputs": [],
      "source": [
        "batch_size = 32\n",
        "# Specifies the batch size, indicating the number of images that will be processed in each training iteration.\n",
        "# A batch size of 32 means that during each training step, the model will process 32 images before updating its parameters.\n",
        "\n",
        "img_height = 180\n",
        "# Defines the height of the input images.\n",
        "# Images will be resized or processed to have a height of 180 pixels.\n",
        "\n",
        "img_width = 180\n",
        "# Defines the width of the input images.\n",
        "# Images will be resized or processed to have a width of 180 pixels."
      ]
    },
    {
      "cell_type": "code",
      "execution_count": 6,
      "metadata": {
        "colab": {
          "base_uri": "https://localhost:8080/"
        },
        "id": "L_eP6A00UNrq",
        "outputId": "ae13f947-08ef-4092-95aa-927fa1911232"
      },
      "outputs": [
        {
          "name": "stdout",
          "output_type": "stream",
          "text": [
            "Found 3670 files belonging to 5 classes.\n",
            "Using 2936 files for training.\n"
          ]
        }
      ],
      "source": [
        "train_ds = tf.keras.preprocessing.image_dataset_from_directory(\n",
        "  data_dir,\n",
        "  validation_split=0.2,  # Splits the dataset into training and validation sets. Here, 20% of the data will be used for validation.\n",
        "  subset=\"training\",  # Specifies that this dataset is for training purposes.\n",
        "  seed=123,  # Sets the seed for reproducibility when splitting the dataset.\n",
        "  image_size=(img_height, img_width),  # Resizes the images to the specified height and width.\n",
        "  batch_size=batch_size  # Sets the batch size for the training dataset.\n",
        ")"
      ]
    },
    {
      "cell_type": "code",
      "execution_count": 7,
      "metadata": {
        "colab": {
          "base_uri": "https://localhost:8080/"
        },
        "id": "eDAEzu4HUNrq",
        "outputId": "2e0b2655-abb2-49d9-8980-7d68e5acf40b"
      },
      "outputs": [
        {
          "name": "stdout",
          "output_type": "stream",
          "text": [
            "Found 3670 files belonging to 5 classes.\n",
            "Using 734 files for validation.\n"
          ]
        }
      ],
      "source": [
        "val_ds = tf.keras.preprocessing.image_dataset_from_directory(\n",
        "  data_dir,  # Specifies the directory containing the validation dataset.\n",
        "  validation_split=0.2,  # Splits the dataset into training and validation sets. Here, 20% of the data will be used for validation.\n",
        "  subset=\"validation\",  # Specifies that this dataset is for validation purposes.\n",
        "  seed=123,  # Sets the seed for reproducibility when splitting the dataset.\n",
        "  image_size=(img_height, img_width),  # Resizes the images to the specified height and width.\n",
        "  batch_size=batch_size  # Sets the batch size for the validation dataset.\n",
        ")"
      ]
    },
    {
      "cell_type": "code",
      "execution_count": 8,
      "metadata": {
        "colab": {
          "base_uri": "https://localhost:8080/"
        },
        "id": "Z555Sm_WUNrq",
        "outputId": "a6984b02-94f3-4b16-a0bf-8f88c3072b1c"
      },
      "outputs": [
        {
          "name": "stdout",
          "output_type": "stream",
          "text": [
            "Class Names : ['daisy', 'dandelion', 'roses', 'sunflowers', 'tulips']\n"
          ]
        }
      ],
      "source": [
        "class_names = train_ds.class_names\n",
        "# Retrieves the class names from the 'train_ds' dataset.\n",
        "# These class names correspond to the subdirectories' names in the dataset directory, representing different categories or classes of images.\n",
        "\n",
        "print(\"Class Names :\", class_names)\n",
        "# Prints the obtained class names.\n",
        "# This line displays the list of class names that the model will learn to classify during training.\n"
      ]
    },
    {
      "cell_type": "code",
      "execution_count": 9,
      "metadata": {
        "id": "qct3gCJWUNrq"
      },
      "outputs": [],
      "source": [
        "train_ds = train_ds.cache().shuffle(1000)\n",
        "# Caches the training dataset 'train_ds', which helps in speeding up data retrieval during training by caching it in memory or on disk.\n",
        "# The '.cache()' method stores the data after the first epoch, avoiding redundant preprocessing.\n",
        "# The '.shuffle(1000)' method shuffles the training dataset with a buffer size of 1000, ensuring randomness in each batch during training.\n",
        "\n",
        "val_ds = val_ds.cache()\n",
        "# Caches the validation dataset 'val_ds'.\n",
        "# Similar to the training dataset, caching improves performance by storing the validation data after the first epoch, reducing I/O overhead."
      ]
    },
    {
      "cell_type": "code",
      "execution_count": 10,
      "metadata": {
        "id": "9uafg4wHUNrq"
      },
      "outputs": [],
      "source": [
        "num_classes = len(class_names) # 5\n",
        "# Calculates the number of classes by determining the length of the 'class_names' list.\n",
        "# This line obtains the count of unique classes present in the dataset, which will be used as the number of output classes for the classification model.\n",
        "# In this case, the comment \"# 5\" suggests that there are 5 unique classes in the dataset.\n"
      ]
    },
    {
      "cell_type": "code",
      "execution_count": 11,
      "metadata": {
        "id": "x6VR4WiXUNrr"
      },
      "outputs": [
        {
          "name": "stderr",
          "output_type": "stream",
          "text": [
            "c:\\Users\\kc\\AppData\\Local\\Programs\\Python\\Python311\\Lib\\site-packages\\keras\\src\\layers\\preprocessing\\tf_data_layer.py:19: UserWarning: Do not pass an `input_shape`/`input_dim` argument to a layer. When using Sequential models, prefer using an `Input(shape)` object as the first layer in the model instead.\n",
            "  super().__init__(**kwargs)\n"
          ]
        }
      ],
      "source": [
        "model = Sequential([\n",
        "    layers.Rescaling(1./255, input_shape=(img_height, img_width, 3)),\n",
        "    # Rescaling layer: Normalizes pixel values to [0,1] by dividing by 255.\n",
        "    # 'input_shape' specifies the input image dimensions (height, width, channels). Here, it's (img_height, img_width, 3) for RGB images.\n",
        "\n",
        "    layers.Conv2D(16, 3, padding='same', activation='relu'),\n",
        "    # Convolutional layer with 16 filters, each using a 3x3 kernel.\n",
        "    # 'padding='same'' adds padding to ensure the output has the same spatial dimensions as the input.\n",
        "    # 'activation='relu'' applies the Rectified Linear Unit activation function.\n",
        "\n",
        "    layers.MaxPooling2D(),\n",
        "    # MaxPooling layer: Performs max pooling operation using a 2x2 window and a stride of 2 to downsample the feature maps.\n",
        "\n",
        "    layers.Conv2D(32, 3, padding='same', activation='relu'),\n",
        "    # Another Convolutional layer with 32 filters, 3x3 kernel, 'padding='same'', and 'activation='relu''.\n",
        "\n",
        "    layers.MaxPooling2D(),\n",
        "    # Another MaxPooling layer.\n",
        "\n",
        "    layers.Conv2D(64, 3, padding='same', activation='relu'),\n",
        "    # Another Convolutional layer with 64 filters, 3x3 kernel, 'padding='same'', and 'activation='relu''.\n",
        "\n",
        "    layers.MaxPooling2D(),\n",
        "    # Another MaxPooling layer.\n",
        "\n",
        "    layers.Flatten(),\n",
        "    # Flatten layer: Flattens the 3D output to 1D to prepare for fully connected layers.\n",
        "\n",
        "    layers.Dense(128, activation='relu'),\n",
        "    # Dense (fully connected) layer with 128 neurons and 'activation='relu''.\n",
        "\n",
        "    layers.Dense(num_classes)\n",
        "    # Output Dense layer with 'num_classes' neurons (number of output classes).\n",
        "    # No activation specified here; it's common in multi-class classification to omit activation to get logits.\n",
        "])"
      ]
    },
    {
      "cell_type": "code",
      "execution_count": 12,
      "metadata": {
        "id": "pWpX8rQnUNrr"
      },
      "outputs": [],
      "source": [
        "model.compile(\n",
        "    optimizer='adam',\n",
        "    # Specifies the optimizer to be used during training. 'adam' is an efficient optimization algorithm for gradient-based optimization.\n",
        "\n",
        "    loss=tf.keras.losses.SparseCategoricalCrossentropy(from_logits=True, reduction='sum_over_batch_size'),\n",
        "    # Defines the loss function used for model training.\n",
        "    # 'SparseCategoricalCrossentropy' computes the cross-entropy loss between true labels and predicted logits (before applying softmax).\n",
        "    # 'from_logits=True' specifies that the model outputs logits, not probabilities.\n",
        "\n",
        "    metrics=['accuracy']\n",
        "    # Sets the evaluation metric(s) to be monitored during training.\n",
        "    # Here, 'accuracy' is used as the metric to track the classification accuracy of the model.\n",
        ")\n"
      ]
    },
    {
      "cell_type": "code",
      "execution_count": 13,
      "metadata": {
        "colab": {
          "base_uri": "https://localhost:8080/"
        },
        "id": "xdpAVLrjUNrr",
        "outputId": "c4419f63-a568-4179-a9db-ab3bdbf46f2c"
      },
      "outputs": [
        {
          "data": {
            "text/html": [
              "<pre style=\"white-space:pre;overflow-x:auto;line-height:normal;font-family:Menlo,'DejaVu Sans Mono',consolas,'Courier New',monospace\"><span style=\"font-weight: bold\">Model: \"sequential\"</span>\n",
              "</pre>\n"
            ],
            "text/plain": [
              "\u001b[1mModel: \"sequential\"\u001b[0m\n"
            ]
          },
          "metadata": {},
          "output_type": "display_data"
        },
        {
          "data": {
            "text/html": [
              "<pre style=\"white-space:pre;overflow-x:auto;line-height:normal;font-family:Menlo,'DejaVu Sans Mono',consolas,'Courier New',monospace\">┏━━━━━━━━━━━━━━━━━━━━━━━━━━━━━━━━━┳━━━━━━━━━━━━━━━━━━━━━━━━┳━━━━━━━━━━━━━━━┓\n",
              "┃<span style=\"font-weight: bold\"> Layer (type)                    </span>┃<span style=\"font-weight: bold\"> Output Shape           </span>┃<span style=\"font-weight: bold\">       Param # </span>┃\n",
              "┡━━━━━━━━━━━━━━━━━━━━━━━━━━━━━━━━━╇━━━━━━━━━━━━━━━━━━━━━━━━╇━━━━━━━━━━━━━━━┩\n",
              "│ rescaling (<span style=\"color: #0087ff; text-decoration-color: #0087ff\">Rescaling</span>)           │ (<span style=\"color: #00d7ff; text-decoration-color: #00d7ff\">None</span>, <span style=\"color: #00af00; text-decoration-color: #00af00\">180</span>, <span style=\"color: #00af00; text-decoration-color: #00af00\">180</span>, <span style=\"color: #00af00; text-decoration-color: #00af00\">3</span>)    │             <span style=\"color: #00af00; text-decoration-color: #00af00\">0</span> │\n",
              "├─────────────────────────────────┼────────────────────────┼───────────────┤\n",
              "│ conv2d (<span style=\"color: #0087ff; text-decoration-color: #0087ff\">Conv2D</span>)                 │ (<span style=\"color: #00d7ff; text-decoration-color: #00d7ff\">None</span>, <span style=\"color: #00af00; text-decoration-color: #00af00\">180</span>, <span style=\"color: #00af00; text-decoration-color: #00af00\">180</span>, <span style=\"color: #00af00; text-decoration-color: #00af00\">16</span>)   │           <span style=\"color: #00af00; text-decoration-color: #00af00\">448</span> │\n",
              "├─────────────────────────────────┼────────────────────────┼───────────────┤\n",
              "│ max_pooling2d (<span style=\"color: #0087ff; text-decoration-color: #0087ff\">MaxPooling2D</span>)    │ (<span style=\"color: #00d7ff; text-decoration-color: #00d7ff\">None</span>, <span style=\"color: #00af00; text-decoration-color: #00af00\">90</span>, <span style=\"color: #00af00; text-decoration-color: #00af00\">90</span>, <span style=\"color: #00af00; text-decoration-color: #00af00\">16</span>)     │             <span style=\"color: #00af00; text-decoration-color: #00af00\">0</span> │\n",
              "├─────────────────────────────────┼────────────────────────┼───────────────┤\n",
              "│ conv2d_1 (<span style=\"color: #0087ff; text-decoration-color: #0087ff\">Conv2D</span>)               │ (<span style=\"color: #00d7ff; text-decoration-color: #00d7ff\">None</span>, <span style=\"color: #00af00; text-decoration-color: #00af00\">90</span>, <span style=\"color: #00af00; text-decoration-color: #00af00\">90</span>, <span style=\"color: #00af00; text-decoration-color: #00af00\">32</span>)     │         <span style=\"color: #00af00; text-decoration-color: #00af00\">4,640</span> │\n",
              "├─────────────────────────────────┼────────────────────────┼───────────────┤\n",
              "│ max_pooling2d_1 (<span style=\"color: #0087ff; text-decoration-color: #0087ff\">MaxPooling2D</span>)  │ (<span style=\"color: #00d7ff; text-decoration-color: #00d7ff\">None</span>, <span style=\"color: #00af00; text-decoration-color: #00af00\">45</span>, <span style=\"color: #00af00; text-decoration-color: #00af00\">45</span>, <span style=\"color: #00af00; text-decoration-color: #00af00\">32</span>)     │             <span style=\"color: #00af00; text-decoration-color: #00af00\">0</span> │\n",
              "├─────────────────────────────────┼────────────────────────┼───────────────┤\n",
              "│ conv2d_2 (<span style=\"color: #0087ff; text-decoration-color: #0087ff\">Conv2D</span>)               │ (<span style=\"color: #00d7ff; text-decoration-color: #00d7ff\">None</span>, <span style=\"color: #00af00; text-decoration-color: #00af00\">45</span>, <span style=\"color: #00af00; text-decoration-color: #00af00\">45</span>, <span style=\"color: #00af00; text-decoration-color: #00af00\">64</span>)     │        <span style=\"color: #00af00; text-decoration-color: #00af00\">18,496</span> │\n",
              "├─────────────────────────────────┼────────────────────────┼───────────────┤\n",
              "│ max_pooling2d_2 (<span style=\"color: #0087ff; text-decoration-color: #0087ff\">MaxPooling2D</span>)  │ (<span style=\"color: #00d7ff; text-decoration-color: #00d7ff\">None</span>, <span style=\"color: #00af00; text-decoration-color: #00af00\">22</span>, <span style=\"color: #00af00; text-decoration-color: #00af00\">22</span>, <span style=\"color: #00af00; text-decoration-color: #00af00\">64</span>)     │             <span style=\"color: #00af00; text-decoration-color: #00af00\">0</span> │\n",
              "├─────────────────────────────────┼────────────────────────┼───────────────┤\n",
              "│ flatten (<span style=\"color: #0087ff; text-decoration-color: #0087ff\">Flatten</span>)               │ (<span style=\"color: #00d7ff; text-decoration-color: #00d7ff\">None</span>, <span style=\"color: #00af00; text-decoration-color: #00af00\">30976</span>)          │             <span style=\"color: #00af00; text-decoration-color: #00af00\">0</span> │\n",
              "├─────────────────────────────────┼────────────────────────┼───────────────┤\n",
              "│ dense (<span style=\"color: #0087ff; text-decoration-color: #0087ff\">Dense</span>)                   │ (<span style=\"color: #00d7ff; text-decoration-color: #00d7ff\">None</span>, <span style=\"color: #00af00; text-decoration-color: #00af00\">128</span>)            │     <span style=\"color: #00af00; text-decoration-color: #00af00\">3,965,056</span> │\n",
              "├─────────────────────────────────┼────────────────────────┼───────────────┤\n",
              "│ dense_1 (<span style=\"color: #0087ff; text-decoration-color: #0087ff\">Dense</span>)                 │ (<span style=\"color: #00d7ff; text-decoration-color: #00d7ff\">None</span>, <span style=\"color: #00af00; text-decoration-color: #00af00\">5</span>)              │           <span style=\"color: #00af00; text-decoration-color: #00af00\">645</span> │\n",
              "└─────────────────────────────────┴────────────────────────┴───────────────┘\n",
              "</pre>\n"
            ],
            "text/plain": [
              "┏━━━━━━━━━━━━━━━━━━━━━━━━━━━━━━━━━┳━━━━━━━━━━━━━━━━━━━━━━━━┳━━━━━━━━━━━━━━━┓\n",
              "┃\u001b[1m \u001b[0m\u001b[1mLayer (type)                   \u001b[0m\u001b[1m \u001b[0m┃\u001b[1m \u001b[0m\u001b[1mOutput Shape          \u001b[0m\u001b[1m \u001b[0m┃\u001b[1m \u001b[0m\u001b[1m      Param #\u001b[0m\u001b[1m \u001b[0m┃\n",
              "┡━━━━━━━━━━━━━━━━━━━━━━━━━━━━━━━━━╇━━━━━━━━━━━━━━━━━━━━━━━━╇━━━━━━━━━━━━━━━┩\n",
              "│ rescaling (\u001b[38;5;33mRescaling\u001b[0m)           │ (\u001b[38;5;45mNone\u001b[0m, \u001b[38;5;34m180\u001b[0m, \u001b[38;5;34m180\u001b[0m, \u001b[38;5;34m3\u001b[0m)    │             \u001b[38;5;34m0\u001b[0m │\n",
              "├─────────────────────────────────┼────────────────────────┼───────────────┤\n",
              "│ conv2d (\u001b[38;5;33mConv2D\u001b[0m)                 │ (\u001b[38;5;45mNone\u001b[0m, \u001b[38;5;34m180\u001b[0m, \u001b[38;5;34m180\u001b[0m, \u001b[38;5;34m16\u001b[0m)   │           \u001b[38;5;34m448\u001b[0m │\n",
              "├─────────────────────────────────┼────────────────────────┼───────────────┤\n",
              "│ max_pooling2d (\u001b[38;5;33mMaxPooling2D\u001b[0m)    │ (\u001b[38;5;45mNone\u001b[0m, \u001b[38;5;34m90\u001b[0m, \u001b[38;5;34m90\u001b[0m, \u001b[38;5;34m16\u001b[0m)     │             \u001b[38;5;34m0\u001b[0m │\n",
              "├─────────────────────────────────┼────────────────────────┼───────────────┤\n",
              "│ conv2d_1 (\u001b[38;5;33mConv2D\u001b[0m)               │ (\u001b[38;5;45mNone\u001b[0m, \u001b[38;5;34m90\u001b[0m, \u001b[38;5;34m90\u001b[0m, \u001b[38;5;34m32\u001b[0m)     │         \u001b[38;5;34m4,640\u001b[0m │\n",
              "├─────────────────────────────────┼────────────────────────┼───────────────┤\n",
              "│ max_pooling2d_1 (\u001b[38;5;33mMaxPooling2D\u001b[0m)  │ (\u001b[38;5;45mNone\u001b[0m, \u001b[38;5;34m45\u001b[0m, \u001b[38;5;34m45\u001b[0m, \u001b[38;5;34m32\u001b[0m)     │             \u001b[38;5;34m0\u001b[0m │\n",
              "├─────────────────────────────────┼────────────────────────┼───────────────┤\n",
              "│ conv2d_2 (\u001b[38;5;33mConv2D\u001b[0m)               │ (\u001b[38;5;45mNone\u001b[0m, \u001b[38;5;34m45\u001b[0m, \u001b[38;5;34m45\u001b[0m, \u001b[38;5;34m64\u001b[0m)     │        \u001b[38;5;34m18,496\u001b[0m │\n",
              "├─────────────────────────────────┼────────────────────────┼───────────────┤\n",
              "│ max_pooling2d_2 (\u001b[38;5;33mMaxPooling2D\u001b[0m)  │ (\u001b[38;5;45mNone\u001b[0m, \u001b[38;5;34m22\u001b[0m, \u001b[38;5;34m22\u001b[0m, \u001b[38;5;34m64\u001b[0m)     │             \u001b[38;5;34m0\u001b[0m │\n",
              "├─────────────────────────────────┼────────────────────────┼───────────────┤\n",
              "│ flatten (\u001b[38;5;33mFlatten\u001b[0m)               │ (\u001b[38;5;45mNone\u001b[0m, \u001b[38;5;34m30976\u001b[0m)          │             \u001b[38;5;34m0\u001b[0m │\n",
              "├─────────────────────────────────┼────────────────────────┼───────────────┤\n",
              "│ dense (\u001b[38;5;33mDense\u001b[0m)                   │ (\u001b[38;5;45mNone\u001b[0m, \u001b[38;5;34m128\u001b[0m)            │     \u001b[38;5;34m3,965,056\u001b[0m │\n",
              "├─────────────────────────────────┼────────────────────────┼───────────────┤\n",
              "│ dense_1 (\u001b[38;5;33mDense\u001b[0m)                 │ (\u001b[38;5;45mNone\u001b[0m, \u001b[38;5;34m5\u001b[0m)              │           \u001b[38;5;34m645\u001b[0m │\n",
              "└─────────────────────────────────┴────────────────────────┴───────────────┘\n"
            ]
          },
          "metadata": {},
          "output_type": "display_data"
        },
        {
          "data": {
            "text/html": [
              "<pre style=\"white-space:pre;overflow-x:auto;line-height:normal;font-family:Menlo,'DejaVu Sans Mono',consolas,'Courier New',monospace\"><span style=\"font-weight: bold\"> Total params: </span><span style=\"color: #00af00; text-decoration-color: #00af00\">3,989,285</span> (15.22 MB)\n",
              "</pre>\n"
            ],
            "text/plain": [
              "\u001b[1m Total params: \u001b[0m\u001b[38;5;34m3,989,285\u001b[0m (15.22 MB)\n"
            ]
          },
          "metadata": {},
          "output_type": "display_data"
        },
        {
          "data": {
            "text/html": [
              "<pre style=\"white-space:pre;overflow-x:auto;line-height:normal;font-family:Menlo,'DejaVu Sans Mono',consolas,'Courier New',monospace\"><span style=\"font-weight: bold\"> Trainable params: </span><span style=\"color: #00af00; text-decoration-color: #00af00\">3,989,285</span> (15.22 MB)\n",
              "</pre>\n"
            ],
            "text/plain": [
              "\u001b[1m Trainable params: \u001b[0m\u001b[38;5;34m3,989,285\u001b[0m (15.22 MB)\n"
            ]
          },
          "metadata": {},
          "output_type": "display_data"
        },
        {
          "data": {
            "text/html": [
              "<pre style=\"white-space:pre;overflow-x:auto;line-height:normal;font-family:Menlo,'DejaVu Sans Mono',consolas,'Courier New',monospace\"><span style=\"font-weight: bold\"> Non-trainable params: </span><span style=\"color: #00af00; text-decoration-color: #00af00\">0</span> (0.00 B)\n",
              "</pre>\n"
            ],
            "text/plain": [
              "\u001b[1m Non-trainable params: \u001b[0m\u001b[38;5;34m0\u001b[0m (0.00 B)\n"
            ]
          },
          "metadata": {},
          "output_type": "display_data"
        },
        {
          "name": "stdout",
          "output_type": "stream",
          "text": [
            "None\n"
          ]
        }
      ],
      "source": [
        "# get inforamtion about layers present in model , shape of output and number of parameters in each layer\n",
        "print(model.summary())"
      ]
    },
    {
      "cell_type": "code",
      "execution_count": 14,
      "metadata": {
        "colab": {
          "base_uri": "https://localhost:8080/"
        },
        "id": "X1xDKxKHUNrr",
        "outputId": "b8e17b01-d610-4bad-be68-f57c0403c4eb"
      },
      "outputs": [
        {
          "name": "stdout",
          "output_type": "stream",
          "text": [
            "Model Training....\n"
          ]
        }
      ],
      "source": [
        "print(\"Model Training....\")"
      ]
    },
    {
      "cell_type": "code",
      "execution_count": 15,
      "metadata": {
        "colab": {
          "base_uri": "https://localhost:8080/"
        },
        "id": "K5C51y7jUNrr",
        "outputId": "ec6f832d-8ae9-4466-a360-0bb2500949cd"
      },
      "outputs": [
        {
          "name": "stdout",
          "output_type": "stream",
          "text": [
            "Epoch 1/50\n",
            "\u001b[1m92/92\u001b[0m \u001b[32m━━━━━━━━━━━━━━━━━━━━\u001b[0m\u001b[37m\u001b[0m \u001b[1m29s\u001b[0m 210ms/step - accuracy: 0.2787 - loss: 1.7416 - val_accuracy: 0.5545 - val_loss: 1.1554\n",
            "Epoch 2/50\n",
            "\u001b[1m92/92\u001b[0m \u001b[32m━━━━━━━━━━━━━━━━━━━━\u001b[0m\u001b[37m\u001b[0m \u001b[1m16s\u001b[0m 169ms/step - accuracy: 0.5780 - loss: 1.0726 - val_accuracy: 0.5995 - val_loss: 0.9991\n",
            "Epoch 3/50\n",
            "\u001b[1m92/92\u001b[0m \u001b[32m━━━━━━━━━━━━━━━━━━━━\u001b[0m\u001b[37m\u001b[0m \u001b[1m15s\u001b[0m 167ms/step - accuracy: 0.6679 - loss: 0.8761 - val_accuracy: 0.6172 - val_loss: 0.9670\n",
            "Epoch 4/50\n",
            "\u001b[1m92/92\u001b[0m \u001b[32m━━━━━━━━━━━━━━━━━━━━\u001b[0m\u001b[37m\u001b[0m \u001b[1m15s\u001b[0m 167ms/step - accuracy: 0.7454 - loss: 0.7030 - val_accuracy: 0.6226 - val_loss: 1.0411\n",
            "Epoch 5/50\n",
            "\u001b[1m92/92\u001b[0m \u001b[32m━━━━━━━━━━━━━━━━━━━━\u001b[0m\u001b[37m\u001b[0m \u001b[1m15s\u001b[0m 168ms/step - accuracy: 0.8172 - loss: 0.5249 - val_accuracy: 0.6322 - val_loss: 1.0118\n",
            "Epoch 6/50\n",
            "\u001b[1m92/92\u001b[0m \u001b[32m━━━━━━━━━━━━━━━━━━━━\u001b[0m\u001b[37m\u001b[0m \u001b[1m17s\u001b[0m 182ms/step - accuracy: 0.8898 - loss: 0.3324 - val_accuracy: 0.6349 - val_loss: 1.1209\n",
            "Epoch 7/50\n",
            "\u001b[1m92/92\u001b[0m \u001b[32m━━━━━━━━━━━━━━━━━━━━\u001b[0m\u001b[37m\u001b[0m \u001b[1m16s\u001b[0m 179ms/step - accuracy: 0.9413 - loss: 0.1999 - val_accuracy: 0.6253 - val_loss: 1.3131\n",
            "Epoch 8/50\n",
            "\u001b[1m92/92\u001b[0m \u001b[32m━━━━━━━━━━━━━━━━━━━━\u001b[0m\u001b[37m\u001b[0m \u001b[1m16s\u001b[0m 177ms/step - accuracy: 0.9601 - loss: 0.1284 - val_accuracy: 0.6185 - val_loss: 1.7358\n",
            "Epoch 9/50\n",
            "\u001b[1m92/92\u001b[0m \u001b[32m━━━━━━━━━━━━━━━━━━━━\u001b[0m\u001b[37m\u001b[0m \u001b[1m16s\u001b[0m 179ms/step - accuracy: 0.9792 - loss: 0.0749 - val_accuracy: 0.6185 - val_loss: 1.8638\n",
            "Epoch 10/50\n",
            "\u001b[1m92/92\u001b[0m \u001b[32m━━━━━━━━━━━━━━━━━━━━\u001b[0m\u001b[37m\u001b[0m \u001b[1m16s\u001b[0m 176ms/step - accuracy: 0.9767 - loss: 0.0871 - val_accuracy: 0.6390 - val_loss: 1.7252\n",
            "Epoch 11/50\n",
            "\u001b[1m92/92\u001b[0m \u001b[32m━━━━━━━━━━━━━━━━━━━━\u001b[0m\u001b[37m\u001b[0m \u001b[1m16s\u001b[0m 178ms/step - accuracy: 0.9928 - loss: 0.0347 - val_accuracy: 0.6376 - val_loss: 2.0938\n",
            "Epoch 12/50\n",
            "\u001b[1m92/92\u001b[0m \u001b[32m━━━━━━━━━━━━━━━━━━━━\u001b[0m\u001b[37m\u001b[0m \u001b[1m16s\u001b[0m 178ms/step - accuracy: 0.9900 - loss: 0.0347 - val_accuracy: 0.6444 - val_loss: 2.0412\n",
            "Epoch 13/50\n",
            "\u001b[1m92/92\u001b[0m \u001b[32m━━━━━━━━━━━━━━━━━━━━\u001b[0m\u001b[37m\u001b[0m \u001b[1m16s\u001b[0m 178ms/step - accuracy: 0.9996 - loss: 0.0077 - val_accuracy: 0.6431 - val_loss: 2.3071\n",
            "Epoch 14/50\n",
            "\u001b[1m92/92\u001b[0m \u001b[32m━━━━━━━━━━━━━━━━━━━━\u001b[0m\u001b[37m\u001b[0m \u001b[1m16s\u001b[0m 177ms/step - accuracy: 0.9986 - loss: 0.0051 - val_accuracy: 0.6499 - val_loss: 2.3915\n",
            "Epoch 15/50\n",
            "\u001b[1m92/92\u001b[0m \u001b[32m━━━━━━━━━━━━━━━━━━━━\u001b[0m\u001b[37m\u001b[0m \u001b[1m17s\u001b[0m 180ms/step - accuracy: 0.9978 - loss: 0.0089 - val_accuracy: 0.6049 - val_loss: 2.3856\n",
            "Epoch 16/50\n",
            "\u001b[1m92/92\u001b[0m \u001b[32m━━━━━━━━━━━━━━━━━━━━\u001b[0m\u001b[37m\u001b[0m \u001b[1m16s\u001b[0m 179ms/step - accuracy: 0.9982 - loss: 0.0104 - val_accuracy: 0.6417 - val_loss: 2.3845\n",
            "Epoch 17/50\n",
            "\u001b[1m92/92\u001b[0m \u001b[32m━━━━━━━━━━━━━━━━━━━━\u001b[0m\u001b[37m\u001b[0m \u001b[1m16s\u001b[0m 177ms/step - accuracy: 0.9999 - loss: 9.8687e-04 - val_accuracy: 0.6349 - val_loss: 2.4952\n",
            "Epoch 18/50\n",
            "\u001b[1m92/92\u001b[0m \u001b[32m━━━━━━━━━━━━━━━━━━━━\u001b[0m\u001b[37m\u001b[0m \u001b[1m16s\u001b[0m 177ms/step - accuracy: 1.0000 - loss: 0.0011 - val_accuracy: 0.6431 - val_loss: 2.5933\n",
            "Epoch 19/50\n",
            "\u001b[1m92/92\u001b[0m \u001b[32m━━━━━━━━━━━━━━━━━━━━\u001b[0m\u001b[37m\u001b[0m \u001b[1m16s\u001b[0m 178ms/step - accuracy: 1.0000 - loss: 4.6721e-04 - val_accuracy: 0.6362 - val_loss: 2.6780\n",
            "Epoch 20/50\n",
            "\u001b[1m92/92\u001b[0m \u001b[32m━━━━━━━━━━━━━━━━━━━━\u001b[0m\u001b[37m\u001b[0m \u001b[1m16s\u001b[0m 179ms/step - accuracy: 1.0000 - loss: 3.4716e-04 - val_accuracy: 0.6335 - val_loss: 2.7377\n",
            "Epoch 21/50\n",
            "\u001b[1m92/92\u001b[0m \u001b[32m━━━━━━━━━━━━━━━━━━━━\u001b[0m\u001b[37m\u001b[0m \u001b[1m17s\u001b[0m 180ms/step - accuracy: 1.0000 - loss: 3.0350e-04 - val_accuracy: 0.6322 - val_loss: 2.7837\n",
            "Epoch 22/50\n",
            "\u001b[1m92/92\u001b[0m \u001b[32m━━━━━━━━━━━━━━━━━━━━\u001b[0m\u001b[37m\u001b[0m \u001b[1m17s\u001b[0m 180ms/step - accuracy: 1.0000 - loss: 2.3585e-04 - val_accuracy: 0.6362 - val_loss: 2.8124\n",
            "Epoch 23/50\n",
            "\u001b[1m92/92\u001b[0m \u001b[32m━━━━━━━━━━━━━━━━━━━━\u001b[0m\u001b[37m\u001b[0m \u001b[1m16s\u001b[0m 177ms/step - accuracy: 1.0000 - loss: 2.0641e-04 - val_accuracy: 0.6362 - val_loss: 2.8621\n",
            "Epoch 24/50\n",
            "\u001b[1m92/92\u001b[0m \u001b[32m━━━━━━━━━━━━━━━━━━━━\u001b[0m\u001b[37m\u001b[0m \u001b[1m16s\u001b[0m 179ms/step - accuracy: 1.0000 - loss: 1.5567e-04 - val_accuracy: 0.6349 - val_loss: 2.8963\n",
            "Epoch 25/50\n",
            "\u001b[1m92/92\u001b[0m \u001b[32m━━━━━━━━━━━━━━━━━━━━\u001b[0m\u001b[37m\u001b[0m \u001b[1m17s\u001b[0m 179ms/step - accuracy: 1.0000 - loss: 1.4934e-04 - val_accuracy: 0.6362 - val_loss: 2.9189\n",
            "Epoch 26/50\n",
            "\u001b[1m92/92\u001b[0m \u001b[32m━━━━━━━━━━━━━━━━━━━━\u001b[0m\u001b[37m\u001b[0m \u001b[1m17s\u001b[0m 179ms/step - accuracy: 1.0000 - loss: 1.2887e-04 - val_accuracy: 0.6362 - val_loss: 2.9534\n",
            "Epoch 27/50\n",
            "\u001b[1m92/92\u001b[0m \u001b[32m━━━━━━━━━━━━━━━━━━━━\u001b[0m\u001b[37m\u001b[0m \u001b[1m16s\u001b[0m 178ms/step - accuracy: 1.0000 - loss: 1.2687e-04 - val_accuracy: 0.6376 - val_loss: 2.9814\n",
            "Epoch 28/50\n",
            "\u001b[1m92/92\u001b[0m \u001b[32m━━━━━━━━━━━━━━━━━━━━\u001b[0m\u001b[37m\u001b[0m \u001b[1m16s\u001b[0m 179ms/step - accuracy: 1.0000 - loss: 9.8573e-05 - val_accuracy: 0.6362 - val_loss: 3.0027\n",
            "Epoch 29/50\n",
            "\u001b[1m92/92\u001b[0m \u001b[32m━━━━━━━━━━━━━━━━━━━━\u001b[0m\u001b[37m\u001b[0m \u001b[1m17s\u001b[0m 180ms/step - accuracy: 1.0000 - loss: 1.0943e-04 - val_accuracy: 0.6349 - val_loss: 3.0377\n",
            "Epoch 30/50\n",
            "\u001b[1m92/92\u001b[0m \u001b[32m━━━━━━━━━━━━━━━━━━━━\u001b[0m\u001b[37m\u001b[0m \u001b[1m17s\u001b[0m 180ms/step - accuracy: 1.0000 - loss: 8.9870e-05 - val_accuracy: 0.6362 - val_loss: 3.0559\n",
            "Epoch 31/50\n",
            "\u001b[1m92/92\u001b[0m \u001b[32m━━━━━━━━━━━━━━━━━━━━\u001b[0m\u001b[37m\u001b[0m \u001b[1m16s\u001b[0m 178ms/step - accuracy: 1.0000 - loss: 8.8989e-05 - val_accuracy: 0.6362 - val_loss: 3.0875\n",
            "Epoch 32/50\n",
            "\u001b[1m92/92\u001b[0m \u001b[32m━━━━━━━━━━━━━━━━━━━━\u001b[0m\u001b[37m\u001b[0m \u001b[1m16s\u001b[0m 179ms/step - accuracy: 1.0000 - loss: 7.3311e-05 - val_accuracy: 0.6362 - val_loss: 3.1148\n",
            "Epoch 33/50\n",
            "\u001b[1m92/92\u001b[0m \u001b[32m━━━━━━━━━━━━━━━━━━━━\u001b[0m\u001b[37m\u001b[0m \u001b[1m16s\u001b[0m 179ms/step - accuracy: 1.0000 - loss: 6.7277e-05 - val_accuracy: 0.6362 - val_loss: 3.1352\n",
            "Epoch 34/50\n",
            "\u001b[1m92/92\u001b[0m \u001b[32m━━━━━━━━━━━━━━━━━━━━\u001b[0m\u001b[37m\u001b[0m \u001b[1m16s\u001b[0m 177ms/step - accuracy: 1.0000 - loss: 6.7652e-05 - val_accuracy: 0.6376 - val_loss: 3.1605\n",
            "Epoch 35/50\n",
            "\u001b[1m92/92\u001b[0m \u001b[32m━━━━━━━━━━━━━━━━━━━━\u001b[0m\u001b[37m\u001b[0m \u001b[1m16s\u001b[0m 178ms/step - accuracy: 1.0000 - loss: 5.8148e-05 - val_accuracy: 0.6376 - val_loss: 3.1797\n",
            "Epoch 36/50\n",
            "\u001b[1m92/92\u001b[0m \u001b[32m━━━━━━━━━━━━━━━━━━━━\u001b[0m\u001b[37m\u001b[0m \u001b[1m16s\u001b[0m 178ms/step - accuracy: 1.0000 - loss: 5.4286e-05 - val_accuracy: 0.6376 - val_loss: 3.2039\n",
            "Epoch 37/50\n",
            "\u001b[1m92/92\u001b[0m \u001b[32m━━━━━━━━━━━━━━━━━━━━\u001b[0m\u001b[37m\u001b[0m \u001b[1m16s\u001b[0m 179ms/step - accuracy: 1.0000 - loss: 4.9537e-05 - val_accuracy: 0.6335 - val_loss: 3.2141\n",
            "Epoch 38/50\n",
            "\u001b[1m92/92\u001b[0m \u001b[32m━━━━━━━━━━━━━━━━━━━━\u001b[0m\u001b[37m\u001b[0m \u001b[1m16s\u001b[0m 177ms/step - accuracy: 1.0000 - loss: 4.9414e-05 - val_accuracy: 0.6376 - val_loss: 3.2365\n",
            "Epoch 39/50\n",
            "\u001b[1m92/92\u001b[0m \u001b[32m━━━━━━━━━━━━━━━━━━━━\u001b[0m\u001b[37m\u001b[0m \u001b[1m17s\u001b[0m 180ms/step - accuracy: 1.0000 - loss: 4.0765e-05 - val_accuracy: 0.6376 - val_loss: 3.2610\n",
            "Epoch 40/50\n",
            "\u001b[1m92/92\u001b[0m \u001b[32m━━━━━━━━━━━━━━━━━━━━\u001b[0m\u001b[37m\u001b[0m \u001b[1m17s\u001b[0m 181ms/step - accuracy: 1.0000 - loss: 3.6261e-05 - val_accuracy: 0.6362 - val_loss: 3.2813\n",
            "Epoch 41/50\n",
            "\u001b[1m92/92\u001b[0m \u001b[32m━━━━━━━━━━━━━━━━━━━━\u001b[0m\u001b[37m\u001b[0m \u001b[1m16s\u001b[0m 177ms/step - accuracy: 1.0000 - loss: 3.6777e-05 - val_accuracy: 0.6376 - val_loss: 3.3046\n",
            "Epoch 42/50\n",
            "\u001b[1m92/92\u001b[0m \u001b[32m━━━━━━━━━━━━━━━━━━━━\u001b[0m\u001b[37m\u001b[0m \u001b[1m17s\u001b[0m 184ms/step - accuracy: 1.0000 - loss: 3.5786e-05 - val_accuracy: 0.6362 - val_loss: 3.3188\n",
            "Epoch 43/50\n",
            "\u001b[1m92/92\u001b[0m \u001b[32m━━━━━━━━━━━━━━━━━━━━\u001b[0m\u001b[37m\u001b[0m \u001b[1m16s\u001b[0m 179ms/step - accuracy: 1.0000 - loss: 3.5810e-05 - val_accuracy: 0.6362 - val_loss: 3.3384\n",
            "Epoch 44/50\n",
            "\u001b[1m92/92\u001b[0m \u001b[32m━━━━━━━━━━━━━━━━━━━━\u001b[0m\u001b[37m\u001b[0m \u001b[1m17s\u001b[0m 180ms/step - accuracy: 1.0000 - loss: 2.8186e-05 - val_accuracy: 0.6362 - val_loss: 3.3598\n",
            "Epoch 45/50\n",
            "\u001b[1m92/92\u001b[0m \u001b[32m━━━━━━━━━━━━━━━━━━━━\u001b[0m\u001b[37m\u001b[0m \u001b[1m17s\u001b[0m 180ms/step - accuracy: 1.0000 - loss: 2.7855e-05 - val_accuracy: 0.6376 - val_loss: 3.3731\n",
            "Epoch 46/50\n",
            "\u001b[1m92/92\u001b[0m \u001b[32m━━━━━━━━━━━━━━━━━━━━\u001b[0m\u001b[37m\u001b[0m \u001b[1m16s\u001b[0m 177ms/step - accuracy: 1.0000 - loss: 2.4883e-05 - val_accuracy: 0.6376 - val_loss: 3.4004\n",
            "Epoch 47/50\n",
            "\u001b[1m92/92\u001b[0m \u001b[32m━━━━━━━━━━━━━━━━━━━━\u001b[0m\u001b[37m\u001b[0m \u001b[1m16s\u001b[0m 177ms/step - accuracy: 1.0000 - loss: 2.1279e-05 - val_accuracy: 0.6335 - val_loss: 3.4110\n",
            "Epoch 48/50\n",
            "\u001b[1m92/92\u001b[0m \u001b[32m━━━━━━━━━━━━━━━━━━━━\u001b[0m\u001b[37m\u001b[0m \u001b[1m17s\u001b[0m 180ms/step - accuracy: 1.0000 - loss: 2.2963e-05 - val_accuracy: 0.6390 - val_loss: 3.4357\n",
            "Epoch 49/50\n",
            "\u001b[1m92/92\u001b[0m \u001b[32m━━━━━━━━━━━━━━━━━━━━\u001b[0m\u001b[37m\u001b[0m \u001b[1m17s\u001b[0m 180ms/step - accuracy: 1.0000 - loss: 2.1410e-05 - val_accuracy: 0.6362 - val_loss: 3.4509\n",
            "Epoch 50/50\n",
            "\u001b[1m92/92\u001b[0m \u001b[32m━━━━━━━━━━━━━━━━━━━━\u001b[0m\u001b[37m\u001b[0m \u001b[1m17s\u001b[0m 181ms/step - accuracy: 1.0000 - loss: 2.1034e-05 - val_accuracy: 0.6362 - val_loss: 3.4679\n"
          ]
        }
      ],
      "source": [
        "epochs = 50\n",
        "# Specifies the number of epochs (iterations over the entire dataset) for training the model.\n",
        "\n",
        "history = model.fit(\n",
        "  train_ds,\n",
        "  # Training dataset used for model training.\n",
        "\n",
        "  validation_data=val_ds,\n",
        "  # Validation dataset used for evaluating the model's performance after each epoch.\n",
        "\n",
        "  epochs=epochs\n",
        "  # Number of epochs for which the model will be trained.\n",
        ")\n"
      ]
    },
    {
      "cell_type": "code",
      "execution_count": 16,
      "metadata": {
        "colab": {
          "base_uri": "https://localhost:8080/"
        },
        "id": "YdznFCLjUNrr",
        "outputId": "7abfb295-d3d9-4e02-d787-e827a0504177"
      },
      "outputs": [
        {
          "name": "stdout",
          "output_type": "stream",
          "text": [
            "Training Complete!\n"
          ]
        }
      ],
      "source": [
        "print(\"Training Complete!\")"
      ]
    },
    {
      "cell_type": "code",
      "execution_count": 17,
      "metadata": {
        "id": "GIN-K_eQUNrr"
      },
      "outputs": [],
      "source": [
        "acc = history.history['accuracy']\n",
        "# Retrieves the training accuracy for each epoch from the 'history' object.\n",
        "# 'accuracy' corresponds to the accuracy metric on the training dataset.\n",
        "\n",
        "val_acc = history.history['val_accuracy']\n",
        "# Retrieves the validation accuracy for each epoch from the 'history' object.\n",
        "# 'val_accuracy' corresponds to the accuracy metric on the validation dataset."
      ]
    },
    {
      "cell_type": "code",
      "execution_count": 18,
      "metadata": {
        "id": "rYdJkQ2_UNrs"
      },
      "outputs": [],
      "source": [
        "loss = history.history['loss']\n",
        "# Retrieves the training loss for each epoch from the 'history' object.\n",
        "# 'loss' corresponds to the loss metric on the training dataset.\n",
        "\n",
        "val_loss = history.history['val_loss']\n",
        "# Retrieves the validation loss for each epoch from the 'history' object.\n",
        "# 'val_loss' corresponds to the loss metric on the validation dataset."
      ]
    },
    {
      "cell_type": "code",
      "execution_count": 19,
      "metadata": {
        "id": "Qs6LeVUxUNrs"
      },
      "outputs": [],
      "source": [
        "epochs_range = range(epochs)\n",
        "# Creates a range of values representing the number of epochs.\n",
        "# 'epochs_range' is a range object that starts from 0 (the first epoch) and ends at 'epochs - 1'.\n",
        "# It is often used for setting the x-axis values when plotting metrics against epochs during visualization."
      ]
    },
    {
      "cell_type": "code",
      "execution_count": 20,
      "metadata": {
        "colab": {
          "base_uri": "https://localhost:8080/",
          "height": 716
        },
        "id": "KGpmONPeUNrs",
        "outputId": "94d0dfa1-8334-4272-e636-867a37ded7cf"
      },
      "outputs": [
        {
          "data": {
            "text/plain": [
              "Text(0.5, 1.0, 'Training and Validation Accuracy')"
            ]
          },
          "execution_count": 20,
          "metadata": {},
          "output_type": "execute_result"
        },
        {
          "data": {
            "image/png": "[encoded data removed]",
            "text/plain": [
              "<Figure size 800x800 with 1 Axes>"
            ]
          },
          "metadata": {},
          "output_type": "display_data"
        }
      ],
      "source": [
        "plt.figure(figsize=(8, 8))\n",
        "# Creates a new figure for the plot with a size of 8x8 inches.\n",
        "\n",
        "plt.subplot(1, 2, 1)\n",
        "# Creates a subplot within the figure: 1 row, 2 columns, and this plot is the first one.\n",
        "\n",
        "plt.plot(epochs_range, acc, label='Training Accuracy')\n",
        "# Plots the training accuracy values against the number of epochs.\n",
        "# 'epochs_range' represents the x-axis (epochs), 'acc' represents the y-axis (training accuracy).\n",
        "# The 'label' parameter sets the label for the 'Training Accuracy' line in the plot.\n",
        "\n",
        "plt.plot(epochs_range, val_acc, label='Validation Accuracy')\n",
        "# Plots the validation accuracy values against the number of epochs.\n",
        "# 'epochs_range' represents the x-axis (epochs), 'val_acc' represents the y-axis (validation accuracy).\n",
        "# The 'label' parameter sets the label for the 'Validation Accuracy' line in the plot.\n",
        "\n",
        "plt.legend(loc='lower right')\n",
        "# Displays the legend on the plot, placing it in the lower right corner.\n",
        "# The legend shows the labels of the plotted lines ('Training Accuracy' and 'Validation Accuracy').\n",
        "\n",
        "plt.title('Training and Validation Accuracy')\n",
        "# Sets the title of the subplot as 'Training and Validation Accuracy'.\n"
      ]
    },
    {
      "cell_type": "code",
      "execution_count": 44,
      "metadata": {
        "colab": {
          "base_uri": "https://localhost:8080/",
          "height": 452
        },
        "id": "nLYXm5bUUNrs",
        "outputId": "28c07d2e-8161-4ee2-f227-09364eafcd85"
      },
      "outputs": [
        {
          "data": {
            "image/png": "[encoded data removed]",
            "text/plain": [
              "<Figure size 640x480 with 1 Axes>"
            ]
          },
          "metadata": {},
          "output_type": "display_data"
        }
      ],
      "source": [
        "plt.subplot(1, 2, 2)\n",
        "# Creates the second subplot in a 1x2 grid within the figure.\n",
        "\n",
        "plt.plot(epochs_range, loss, label='Training Loss')\n",
        "# Plots the training loss values against the number of epochs.\n",
        "# 'epochs_range' represents the x-axis (epochs), 'loss' represents the y-axis (training loss).\n",
        "# The 'label' parameter sets the label for the 'Training Loss' line in the plot.\n",
        "\n",
        "plt.plot(epochs_range, val_loss, label='Validation Loss')\n",
        "# Plots the validation loss values against the number of epochs.\n",
        "# 'epochs_range' represents the x-axis (epochs), 'val_loss' represents the y-axis (validation loss).\n",
        "# The 'label' parameter sets the label for the 'Validation Loss' line in the plot.\n",
        "\n",
        "plt.legend(loc='upper right')\n",
        "# Displays the legend on the plot, placing it in the upper right corner.\n",
        "# The legend shows the labels of the plotted lines ('Training Loss' and 'Validation Loss').\n",
        "\n",
        "plt.title('Training and Validation Loss')\n",
        "# Sets the title of the subplot as 'Training and Validation Loss'.\n",
        "\n",
        "plt.show()\n",
        "# Displays the entire figure containing the two subplots showing loss metrics.\n"
      ]
    },
    {
      "cell_type": "code",
      "execution_count": 21,
      "metadata": {
        "colab": {
          "base_uri": "https://localhost:8080/"
        },
        "id": "pUO31NFnUNrs",
        "outputId": "3995c292-ec66-4c07-f5e5-e6ee32589d07"
      },
      "outputs": [
        {
          "name": "stderr",
          "output_type": "stream",
          "text": [
            "WARNING:absl:You are saving your model as an HDF5 file via `model.save()` or `keras.saving.save_model(model)`. This file format is considered legacy. We recommend using instead the native Keras format, e.g. `model.save('my_model.keras')` or `keras.saving.save_model(model, 'my_model.keras')`. \n"
          ]
        },
        {
          "name": "stdout",
          "output_type": "stream",
          "text": [
            "Model Saved\n"
          ]
        }
      ],
      "source": [
        "save_model(model, 'flower_model_trained.hdf5')\n",
        "# Saves the trained model to a file named 'flower_model_trained.hdf5'.\n",
        "# The model is saved in the HDF5 file format, which stores both the model architecture and weights.\n",
        "\n",
        "print(\"Model Saved\")\n",
        "# Prints a message to the console indicating that the model has been successfully saved."
      ]
    },
    {
      "cell_type": "code",
      "execution_count": null,
      "metadata": {},
      "outputs": [],
      "source": []
    }
  ],
  "metadata": {
    "accelerator": "GPU",
    "colab": {
      "gpuType": "T4",
      "provenance": []
    },
    "kernelspec": {
      "display_name": "Python 3",
      "name": "python3"
    },
    "language_info": {
      "codemirror_mode": {
        "name": "ipython",
        "version": 3
      },
      "file_extension": ".py",
      "mimetype": "text/x-python",
      "name": "python",
      "nbconvert_exporter": "python",
      "pygments_lexer": "ipython3",
      "version": "3.11.0"
    }
  },
  "nbformat": 4,
  "nbformat_minor": 0
}
